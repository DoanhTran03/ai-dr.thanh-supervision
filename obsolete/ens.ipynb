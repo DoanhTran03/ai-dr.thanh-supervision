{
 "cells": [
  {
   "cell_type": "code",
   "id": "initial_id",
   "metadata": {
    "collapsed": true,
    "ExecuteTime": {
     "end_time": "2025-01-23T13:43:47.380431Z",
     "start_time": "2025-01-23T13:43:44.070414Z"
    }
   },
   "source": [
    "import numpy as np\n",
    "from sklearn.datasets import load_iris\n",
    "from sklearn.metrics import accuracy_score, f1_score\n",
    "import pandas as pd\n",
    "import random\n",
    "import xlsxwriter\n",
    "import math\n",
    "import statistics\n",
    "from sklearn.ensemble import RandomForestClassifier,BaggingClassifier\n",
    "import matplotlib.pyplot as pl"
   ],
   "outputs": [],
   "execution_count": 1
  },
  {
   "cell_type": "code",
   "id": "1af719430ad2ef6d",
   "metadata": {
    "ExecuteTime": {
     "end_time": "2025-01-23T13:43:47.409951Z",
     "start_time": "2025-01-23T13:43:47.390048Z"
    }
   },
   "source": [
    "# Load the iris dataset\n",
    "iris = load_iris()\n",
    "X = iris.data\n",
    "y = iris.target\n",
    "\n",
    "iris_df = pd.DataFrame(X, columns=iris.feature_names)\n",
    "iris_df['target'] = y"
   ],
   "outputs": [],
   "execution_count": 2
  },
  {
   "metadata": {
    "ExecuteTime": {
     "end_time": "2025-01-23T13:50:33.744608Z",
     "start_time": "2025-01-23T13:50:33.740036Z"
    }
   },
   "cell_type": "code",
   "source": [
    "#Prepare model\n",
    "rf_g = {\n",
    "    \"name\" : \"Random Forest\",\n",
    "    \"model\" : RandomForestClassifier()\n",
    "}\n",
    "\n",
    "bg_c = {\n",
    "    \"name\" : \"Bagging\",\n",
    "    \"model\" : BaggingClassifier()\n",
    "}"
   ],
   "id": "4c6aed872948280b",
   "outputs": [],
   "execution_count": 11
  },
  {
   "metadata": {
    "ExecuteTime": {
     "end_time": "2025-01-23T13:49:26.329981Z",
     "start_time": "2025-01-23T13:49:26.320455Z"
    }
   },
   "cell_type": "code",
   "source": [
    "#Parameter:\n",
    "# (DataFrame) dataframe - contains dataset\n",
    "# (int) number_of_folds - number of division on the dataset\n",
    "\n",
    "#Return: List of divided DataFrame\n",
    "\n",
    "def slide_df_to_n_folds (data_frame, number_of_folds) :\n",
    "    #--General function variables\n",
    "    wrapper_array = []\n",
    "    list_of_divided_dataframe = []\n",
    "\n",
    "    #--Shuffle and divide the index of data_frame\n",
    "    index_of_df = list(range(data_frame.shape[0]))\n",
    "    random.shuffle(index_of_df)\n",
    "    #Calculate the number of fold will be divided into\n",
    "    number_of_element_per_fold = math.ceil(len(index_of_df)/number_of_folds)\n",
    "    #Divide the list of array into the corresponding fold\n",
    "    for k in range (0, len(index_of_df), number_of_element_per_fold):\n",
    "        wrapper_array.append(index_of_df[k:k+number_of_element_per_fold])\n",
    "\n",
    "    #--Divide the dataframe based on the index was created\n",
    "    for m in range(len(wrapper_array)):\n",
    "        new_dataframe = data_frame.iloc[wrapper_array[m]]\n",
    "        list_of_divided_dataframe.append(new_dataframe)\n",
    "\n",
    "    return list_of_divided_dataframe\n"
   ],
   "id": "7da5158a2e1d608",
   "outputs": [],
   "execution_count": 3
  },
  {
   "metadata": {
    "ExecuteTime": {
     "end_time": "2025-01-23T13:49:27.283031Z",
     "start_time": "2025-01-23T13:49:27.275990Z"
    }
   },
   "cell_type": "code",
   "source": [
    "def prepare_train_test_tuples (list_of_divided_dataframe):\n",
    "    train_test_tuples = []\n",
    "    for inx, fold in enumerate(list_of_divided_dataframe):\n",
    "        train_dfs = list_of_divided_dataframe[:inx] + list_of_divided_dataframe[inx+1:]\n",
    "        train_df = pd.concat(train_dfs,axis=0)\n",
    "        test_df = list_of_divided_dataframe[inx]\n",
    "\n",
    "        train_test_tuples.append((train_df, test_df))\n",
    "\n",
    "    return train_test_tuples"
   ],
   "id": "13cb48a4d4860e09",
   "outputs": [],
   "execution_count": 4
  },
  {
   "metadata": {
    "ExecuteTime": {
     "end_time": "2025-01-23T13:49:28.230554Z",
     "start_time": "2025-01-23T13:49:28.220096Z"
    }
   },
   "cell_type": "code",
   "source": [
    "#\n",
    "def cross_validate(models, dataset ,fold_number = 5):\n",
    "\n",
    "    #--Prepare data\n",
    "    folds = slide_df_to_n_folds (dataset, fold_number)\n",
    "    train_test_tuples = prepare_train_test_tuples(folds)\n",
    "    truth_val_tests = []\n",
    "\n",
    "    for train_test_tuple in train_test_tuples:\n",
    "        truth_val_tests.append(train_test_tuple[1][\"target\"])\n",
    "\n",
    "    model_predictions_tuples = []\n",
    "    for model in models:\n",
    "        predictions = []\n",
    "\n",
    "        for train_test_tuple in train_test_tuples:\n",
    "            train_data = train_test_tuple[0]\n",
    "            test_data = train_test_tuple[1]\n",
    "\n",
    "            #--Train model on training fold\n",
    "            model[\"model\"].fit(train_data.drop(columns='target'), train_data.target)\n",
    "            #--Make prediction\n",
    "            prediction_result = model[\"model\"].predict(test_data.drop(columns='target'))\n",
    "\n",
    "            predictions.append(prediction_result)\n",
    "\n",
    "        model_predictions_tuples.append((model,predictions))\n",
    "\n",
    "    return truth_val_tests, model_predictions_tuples"
   ],
   "id": "496a30d7bfca5636",
   "outputs": [],
   "execution_count": 5
  },
  {
   "metadata": {
    "ExecuteTime": {
     "end_time": "2025-01-23T13:49:28.956948Z",
     "start_time": "2025-01-23T13:49:28.947378Z"
    }
   },
   "cell_type": "code",
   "source": [
    "def prepare_metrics_errdevs_tuples (truth_val_tests, model_predictions_tuples):\n",
    "\n",
    "    model_metrics_errdevs_tuples = []\n",
    "\n",
    "    for inx, model_predictions_tuple in enumerate(model_predictions_tuples):\n",
    "\n",
    "        acc_scores = []\n",
    "        f1_scores = []\n",
    "\n",
    "        for iny, truth_val_test in enumerate(truth_val_tests):\n",
    "            acc_sc =  accuracy_score(truth_val_test, model_predictions_tuple[1][iny])\n",
    "            f1_sc = f1_score(truth_val_test, model_predictions_tuple[1][iny],average='macro')\n",
    "\n",
    "            acc_scores.append(acc_sc)\n",
    "            f1_scores.append(f1_sc)\n",
    "\n",
    "        acc_mean = statistics.mean(acc_scores)\n",
    "        f1_mean = statistics.mean(f1_scores)\n",
    "\n",
    "        acc_dev = statistics.stdev(acc_scores)\n",
    "        f1_dev = statistics.stdev(f1_scores)\n",
    "\n",
    "        model_metrics_errdevs_tuples.append((model_predictions_tuple[0],[acc_scores,f1_scores], [acc_mean,f1_mean],[acc_dev,f1_dev]))\n",
    "\n",
    "    return model_metrics_errdevs_tuples"
   ],
   "id": "d1c91f2e860f261e",
   "outputs": [],
   "execution_count": 6
  },
  {
   "metadata": {
    "ExecuteTime": {
     "end_time": "2025-01-23T13:49:30.045096Z",
     "start_time": "2025-01-23T13:49:30.037851Z"
    }
   },
   "cell_type": "code",
   "source": [
    "def save_crvInfo_to_xlsx (truth_val_tests,  model_predictions_tuples):\n",
    "    model_metrics_errdevs_tuples = prepare_metrics_errdevs_tuples(truth_val_tests, model_predictions_tuples)\n",
    "\n",
    "    workbook = xlsxwriter.Workbook(\"../Result.xlsx\")\n",
    "\n",
    "    for inx, model_predictions_tuple in enumerate(model_metrics_errdevs_tuples):\n",
    "\n",
    "        worksheet_fold = workbook.add_worksheet(model_predictions_tuple[0][\"name\"])\n",
    "\n",
    "        row = 1\n",
    "\n",
    "        worksheet_fold.write(0, 0, f\"Fold number\")\n",
    "        worksheet_fold.write(0, 1, f\"Accuracy score\")\n",
    "\n",
    "        for iny, mse in enumerate (model_predictions_tuple[1][0]):\n",
    "            worksheet_fold.write(row, 0, f\"{iny}\")\n",
    "            worksheet_fold.write(row, 1, f\"{mse}\")\n",
    "            row += 1\n",
    "\n",
    "        worksheet_fold.write(row, 0, f\"Average error: {model_predictions_tuple[2][0]}\")\n",
    "        row += 1\n",
    "        worksheet_fold.write(row, 0, f\"Standard Derivation: {model_predictions_tuple[3][0]}\")\n",
    "        row += 1\n",
    "\n",
    "        row += 3\n",
    "\n",
    "        worksheet_fold.write(row, 0, f\"Fold number\")\n",
    "        worksheet_fold.write(row, 1, f\"F1 Score\")\n",
    "\n",
    "        row += 1\n",
    "\n",
    "        for iny, mse in enumerate (model_predictions_tuple[1][1]):\n",
    "            worksheet_fold.write(row, 0, f\"{iny}\")\n",
    "            worksheet_fold.write(row, 1, f\"{mse}\")\n",
    "            row += 1\n",
    "\n",
    "        worksheet_fold.write(row, 0, f\"Average error: {model_predictions_tuple[2][1]}\")\n",
    "        row += 1\n",
    "        worksheet_fold.write(row, 0, f\"Standard Derivation: {model_predictions_tuple[3][1]}\")\n",
    "        row += 1\n",
    "\n",
    "        row += 3\n",
    "\n",
    "    workbook.close()\n",
    "\n",
    "    return"
   ],
   "id": "a30574ae9bb079cb",
   "outputs": [],
   "execution_count": 7
  },
  {
   "metadata": {
    "ExecuteTime": {
     "end_time": "2025-01-23T13:49:31.621969Z",
     "start_time": "2025-01-23T13:49:31.614121Z"
    }
   },
   "cell_type": "code",
   "source": [
    "def plot_cv_results(truth_val_tests,model_predictions_tuples) :\n",
    "    #Configure graph properties\n",
    "    pl.rcParams['figure.figsize'] = [20, 15]\n",
    "    #pl.rcParams[\"figure.autolayout\"] = True\n",
    "\n",
    "    #Define color line for different model\n",
    "    model_color_dic = {\n",
    "        \"Random Forest\" : \"red\",\n",
    "        \"Bagging\" : \"blue\",\n",
    "    }\n",
    "\n",
    "    fig, ax = pl.subplots(len(truth_val_tests))\n",
    "\n",
    "    for inx, truth_val_test in enumerate(truth_val_tests):\n",
    "        # ax[inx].rcParams['figure.figsize'] = [30, 20]\n",
    "        ax[inx].plot(truth_val_test.tolist(), linestyle=\"dotted\", color=\"green\",label= \"Truth value\")\n",
    "        ax[inx].set_title(f\"Fold number {inx}\")\n",
    "        ax[inx].legend(loc=\"upper right\")\n",
    "\n",
    "        for model_prediction_tuple in model_predictions_tuples:\n",
    "            model_name = model_prediction_tuple[0][\"name\"]\n",
    "            ax[inx].plot(model_prediction_tuple[1][inx], linestyle=\"dotted\", color=f\"{model_color_dic[model_name]}\", label=model_name)\n",
    "            ax[inx].legend(loc=\"upper right\")\n",
    "\n",
    "    fig.tight_layout()"
   ],
   "id": "734416369104df2f",
   "outputs": [],
   "execution_count": 8
  },
  {
   "metadata": {
    "ExecuteTime": {
     "end_time": "2025-01-23T13:58:20.951844Z",
     "start_time": "2025-01-23T13:58:20.944625Z"
    }
   },
   "cell_type": "code",
   "source": [
    "#Input:\n",
    "\n",
    "#Ouput:\n",
    "# + Two box plot figure, first one is accuracy and second one is f1_score\n",
    "# +\n",
    "def box_plot_models_metrics (estimator_nums) :\n",
    "\n",
    "    accuracies_data = []\n",
    "    f1_scores_data = []\n",
    "\n",
    "    for estimator_num in estimator_nums:\n",
    "        bg_c = {\n",
    "            \"name\" : \"Bagging\",\n",
    "            \"model\" : BaggingClassifier(n_estimators=estimator_num)\n",
    "        }\n",
    "\n",
    "        truth_val_tests, model_predictions_tuples = cross_validate([bg_c],iris_df,5)\n",
    "        model_metrics_errdevs_tuples = prepare_metrics_errdevs_tuples(truth_val_tests, model_predictions_tuples)\n",
    "\n",
    "        accuracies = model_metrics_errdevs_tuples[0][1][0]\n",
    "        f1_scores = model_metrics_errdevs_tuples[0][1][1]\n",
    "\n",
    "        accuracies_data.append(accuracies)\n",
    "        f1_scores_data.append(f1_scores)\n",
    "\n",
    "    fig = pl.figure(figsize =(10, 7))\n",
    "    fig.suptitle('Accuracy Score', fontsize=16)\n",
    "    ax = fig.add_axes([0, 0, 1, 1])\n",
    "    bp = ax.boxplot(accuracies_data)\n",
    "    ax.set_xticklabels(estimator_nums)\n",
    "\n",
    "    fig2 = pl.figure(figsize =(10, 7))\n",
    "    fig2.suptitle('F1 Score', fontsize=16)\n",
    "    ax2 = fig2.add_axes([0, 0, 1, 1])\n",
    "    bp = ax2.boxplot(f1_scores_data)\n",
    "    ax2.set_xticklabels(estimator_nums)\n",
    "\n",
    "    return model_predictions_tuples\n"
   ],
   "id": "c530ffe2b67e5de0",
   "outputs": [],
   "execution_count": 18
  },
  {
   "metadata": {
    "ExecuteTime": {
     "end_time": "2025-01-23T14:01:02.300553Z",
     "start_time": "2025-01-23T14:00:40.858025Z"
    }
   },
   "cell_type": "code",
   "source": [
    "#Execution cell\n",
    "models = [bg_c, rf_g]\n",
    "#a = cross_validate(models,iris_df,5)\n",
    "truth_val_tests, model_predictions_tuples = cross_validate(models,iris_df,5)\n",
    "prepare_metrics_errdevs_tuples(truth_val_tests, model_predictions_tuples)\n",
    "#plot_cv_results(truth_val_tests, model_predictions_tuples)\n",
    "#save_crvInfo_to_xlsx(truth_val_tests, model_predictions_tuples)\n",
    "estimator_nums = [10,50,100,150,200,250,300,350,400]\n",
    "a = box_plot_models_metrics(estimator_nums)\n"
   ],
   "id": "f9b2bfdbe642a236",
   "outputs": [
    {
     "data": {
      "text/plain": [
       "<Figure size 1000x700 with 1 Axes>"
      ],
      "image/png": "[encoded data removed]"
     },
     "metadata": {},
     "output_type": "display_data"
    },
    {
     "data": {
      "text/plain": [
       "<Figure size 1000x700 with 1 Axes>"
      ],
      "image/png": "[encoded data removed]"
     },
     "metadata": {},
     "output_type": "display_data"
    }
   ],
   "execution_count": 20
  },
  {
   "metadata": {},
   "cell_type": "code",
   "outputs": [],
   "execution_count": null,
   "source": "",
   "id": "12480da7022310c0"
  }
 ],
 "metadata": {
  "kernelspec": {
   "display_name": "Python 3",
   "language": "python",
   "name": "python3"
  },
  "language_info": {
   "codemirror_mode": {
    "name": "ipython",
    "version": 2
   },
   "file_extension": ".py",
   "mimetype": "text/x-python",
   "name": "python",
   "nbconvert_exporter": "python",
   "pygments_lexer": "ipython2",
   "version": "2.7.6"
  }
 },
 "nbformat": 4,
 "nbformat_minor": 5
}
