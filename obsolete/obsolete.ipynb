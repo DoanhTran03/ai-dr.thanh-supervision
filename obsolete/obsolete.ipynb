{
 "cells": [
  {
   "cell_type": "code",
   "execution_count": null,
   "id": "initial_id",
   "metadata": {
    "collapsed": true
   },
   "outputs": [],
   "source": [
    "def obsolete_cross_validate(model, dataset ,fold_number = 5) :\n",
    "    #--Declare function variables\n",
    "    division_accuracy = list()\n",
    "    accuracy_of_folds = []\n",
    "    f1_score_of_folds = []\n",
    "\n",
    "    #--Get array of folds as dataframe\n",
    "    folds = slide_df_to_n_folds (dataset, fold_number)\n",
    "\n",
    "    #Loop through each fold as the testing fold and training the other fold. The purpose is to calculate the\n",
    "    #accuracy score.\n",
    "    for i in range(0,len(folds)):\n",
    "        print(f\"\\n---------------Test fold on fold number: {i} --------------\\n\")\n",
    "        #--Print testing data\n",
    "        print(f\"----The Testing fold is: \\n{folds[i]}\")\n",
    "\n",
    "        #--Groups fold !=fold[i] into training fold\n",
    "        training_data = pd.DataFrame()\n",
    "\n",
    "        for j in range(0,len(folds)):\n",
    "            if j != i:\n",
    "                training_data = pd.concat([training_data, folds[j]], axis=0)\n",
    "\n",
    "        print(f\"\\n--The Training fold of testing fold number {i} is: \\n{training_data}\")\n",
    "        #--Train model on training fold\n",
    "        model.fit(training_data.drop(columns='target'), training_data.target)\n",
    "        #--Make prediction\n",
    "        prediction_result = model.predict(folds[i].drop(columns='target'))\n",
    "\n",
    "        #--Calculate the accuracy score\n",
    "        accuracy = accuracy_score(folds[i].target, prediction_result)\n",
    "        accuracy_of_folds.append(round(accuracy,4))\n",
    "\n",
    "        #--Calculate the f1 score\n",
    "        f1score = f1_score(folds[i].target, prediction_result,average='macro')\n",
    "        f1_score_of_folds.append(round(f1score.item(),4))\n",
    "\n",
    "    #--Calculate average accuracy\n",
    "    avarage_accuracy = round(sum(accuracy_of_folds)/fold_number,4)\n",
    "\n",
    "    #Calculate the standard deviation\n",
    "    standard_deviation_accuracy = round(statistics.stdev(accuracy_of_folds),4)\n",
    "\n",
    "    return accuracy_of_folds, avarage_accuracy, standard_deviation_accuracy, f1_score_of_folds\n",
    "\n",
    "cross_validate(knn, iris_df)\n"
   ]
  }
 ],
 "metadata": {
  "kernelspec": {
   "display_name": "Python 3",
   "language": "python",
   "name": "python3"
  },
  "language_info": {
   "codemirror_mode": {
    "name": "ipython",
    "version": 2
   },
   "file_extension": ".py",
   "mimetype": "text/x-python",
   "name": "python",
   "nbconvert_exporter": "python",
   "pygments_lexer": "ipython2",
   "version": "2.7.6"
  }
 },
 "nbformat": 4,
 "nbformat_minor": 5
}
