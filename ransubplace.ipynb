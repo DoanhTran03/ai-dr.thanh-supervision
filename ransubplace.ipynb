{
 "cells": [
  {
   "cell_type": "code",
   "id": "initial_id",
   "metadata": {
    "collapsed": true,
    "trusted": false,
    "ExecuteTime": {
     "end_time": "2025-05-13T14:55:22.006039Z",
     "start_time": "2025-05-13T14:55:19.626333Z"
    }
   },
   "source": [
    "from sklearn.datasets import load_iris\n",
    "import pandas as pd\n",
    "from sklearn import tree\n",
    "from sklearn import neighbors\n",
    "from sklearn import svm\n",
    "\n",
    "from awesome_doanh_ml.model_eval.ensemble.box_plt import box_plt\n",
    "from awesome_doanh_ml.base.Algorithm import Algorithm\n",
    "from awesome_doanh_ml.ensemble.RandomSubspace import RandomSubspace\n",
    "from awesome_doanh_ml.ensemble.SumRule import SumRule\n",
    "from awesome_doanh_ml.ensemble.MajorityVote import MajorityVote\n",
    "from awesome_doanh_ml.model_eval.CrossValidator import CrossValidator"
   ],
   "outputs": [],
   "execution_count": 1
  },
  {
   "metadata": {
    "trusted": false,
    "ExecuteTime": {
     "end_time": "2025-04-24T13:00:36.283973Z",
     "start_time": "2025-04-24T13:00:35.933380Z"
    }
   },
   "cell_type": "code",
   "source": [
    "#Execution cell\n",
    "dt_c_entropy = Algorithm(\"Decision Tree Classifier\", tree.DecisionTreeClassifier)\n",
    "dt_c_entropy.estimator.criterion='entropy'\n",
    "\n",
    "dt_c_gini = Algorithm(\"Decision Tree Classifier Gini\", tree.DecisionTreeClassifier)\n",
    "dt_c_gini.estimator.criterion='gini'\n",
    "\n",
    "knn_c_3 = Algorithm(\"KNN with 3 neighbors\", neighbors.KNeighborsClassifier)\n",
    "knn_c_3.estimator.n_neighbors = 3\n",
    "\n",
    "knn_c_10 = Algorithm(\"KNN with 10 neighbors\", neighbors.KNeighborsClassifier)\n",
    "knn_c_10.estimator.n_neighbors = 10\n",
    "\n",
    "\n",
    "# vm = Algorithm(\"SVM\", svm.SVC)\n",
    "\n",
    "# a = svm.SVC(kernel='precomputed')\n",
    "# a.fit(X, y)\n",
    "\n",
    "sr = SumRule([dt_c_entropy, dt_c_gini, knn_c_3, knn_c_10])\n",
    "mv = MajorityVote([dt_c_entropy, dt_c_gini, knn_c_3, knn_c_10])\n",
    "\n",
    "cr_validator = CrossValidator([dt_c_entropy, knn_c_10, sr, mv], iris_df, 5)\n",
    "cr_validator.save_evalMetrics_to_excel()\n"
   ],
   "id": "1e0e8ab84a97ae6a",
   "outputs": [],
   "execution_count": 4
  },
  {
   "metadata": {},
   "cell_type": "code",
   "outputs": [],
   "execution_count": 3,
   "source": [
    "# Load the iris dataset\n",
    "iris = load_iris()\n",
    "X = iris.data\n",
    "y = iris.target\n",
    "\n",
    "iris_df = pd.DataFrame(X, columns=iris.feature_names)\n",
    "iris_df['target'] = y"
   ],
   "id": "ab912ef7501f4a9c"
  }
 ],
 "metadata": {
  "kernelspec": {
   "display_name": "Python 3",
   "language": "python",
   "name": "python3"
  },
  "language_info": {
   "codemirror_mode": {
    "name": "ipython",
    "version": 2
   },
   "file_extension": ".py",
   "mimetype": "text/x-python",
   "name": "python",
   "nbconvert_exporter": "python",
   "pygments_lexer": "ipython2",
   "version": "2.7.6"
  }
 },
 "nbformat": 4,
 "nbformat_minor": 5
}
